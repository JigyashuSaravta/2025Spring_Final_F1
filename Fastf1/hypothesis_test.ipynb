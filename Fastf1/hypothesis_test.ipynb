{
 "cells": [
  {
   "cell_type": "code",
   "id": "initial_id",
   "metadata": {
    "collapsed": true,
    "ExecuteTime": {
     "end_time": "2025-04-30T00:08:20.662296Z",
     "start_time": "2025-04-30T00:08:20.644891Z"
    }
   },
   "source": [
    "import pandas as pd\n",
    "\n",
    "df_v10 = pd.read_csv('race_times_v10.csv')\n",
    "df_v6 = pd.read_csv('race_times_v6.csv')"
   ],
   "outputs": [],
   "execution_count": 1
  },
  {
   "metadata": {
    "ExecuteTime": {
     "end_time": "2025-04-30T00:08:20.735070Z",
     "start_time": "2025-04-30T00:08:20.729895Z"
    }
   },
   "cell_type": "code",
   "source": [
    "import pandas as pd\n",
    "from scipy.stats import ttest_ind\n",
    "import seaborn as sns\n",
    "import matplotlib.pyplot as plt\n",
    "\n",
    "# Load data\n",
    "df_v10 = pd.read_csv('race_times_v10.csv')  # Contains 'simulation_number', 'race_time_seconds'\n",
    "df_v6 = pd.read_csv('race_times_v6.csv')  # Same columns\n",
    "\n",
    "# Extract race times\n",
    "v10_times = df_v10['RaceTime']\n",
    "v6_times = df_v6['RaceTime']\n",
    "\n",
    "# Perform t-test (one-tailed: testing if V10 is faster than V6)\n",
    "t_stat, p_value = ttest_ind(v10_times, v6_times, alternative='less')  # H1: V10 < V6\n",
    "\n",
    "# Output results\n",
    "print(\"--- T-Test Results ---\")\n",
    "print(f\"T-statistic = {t_stat:.4f}\")\n",
    "print(f\"P-value = {p_value:.10f}\")\n",
    "\n",
    "if p_value < 0.05:\n",
    "    print(\"✅ **Reject Null Hypothesis**: V10 hybrid engines yield significantly faster race times than V6 (p < 0.05).\")\n",
    "else:\n",
    "    print(\"❌ **Fail to Reject Null Hypothesis**: No significant evidence that V10 is faster than V6 (p ≥ 0.05).\")\n",
    "\n",
    "# Calculate means\n",
    "mean_v10 = v10_times.mean()\n",
    "mean_v6 = v6_times.mean()\n",
    "print(f\"\\nMean Race Time (V10): {mean_v10:.2f} seconds\")\n",
    "print(f\"Mean Race Time (V6): {mean_v6:.2f} seconds\")\n",
    "print(f\"Difference: {mean_v6 - mean_v10:.2f} seconds (V6 - V10)\")"
   ],
   "id": "744ee4c4faaa494b",
   "outputs": [
    {
     "name": "stdout",
     "output_type": "stream",
     "text": [
      "--- T-Test Results ---\n",
      "T-statistic = -48.7314\n",
      "P-value = 0.0000000000\n",
      "✅ **Reject Null Hypothesis**: V10 hybrid engines yield significantly faster race times than V6 (p < 0.05).\n",
      "\n",
      "Mean Race Time (V10): 6377.14 seconds\n",
      "Mean Race Time (V6): 6449.82 seconds\n",
      "Difference: 72.68 seconds (V6 - V10)\n"
     ]
    }
   ],
   "execution_count": 2
  },
  {
   "metadata": {
    "ExecuteTime": {
     "end_time": "2025-04-30T00:08:20.745342Z",
     "start_time": "2025-04-30T00:08:20.743929Z"
    }
   },
   "cell_type": "code",
   "source": "",
   "id": "593a2de4669ff90d",
   "outputs": [],
   "execution_count": null
  }
 ],
 "metadata": {
  "kernelspec": {
   "display_name": "Python 3",
   "language": "python",
   "name": "python3"
  },
  "language_info": {
   "codemirror_mode": {
    "name": "ipython",
    "version": 2
   },
   "file_extension": ".py",
   "mimetype": "text/x-python",
   "name": "python",
   "nbconvert_exporter": "python",
   "pygments_lexer": "ipython2",
   "version": "2.7.6"
  }
 },
 "nbformat": 4,
 "nbformat_minor": 5
}
