{
 "cells": [
  {
   "cell_type": "code",
   "id": "initial_id",
   "metadata": {
    "collapsed": true,
    "ExecuteTime": {
     "end_time": "2025-05-09T22:40:39.453970Z",
     "start_time": "2025-05-09T22:40:39.215915Z"
    }
   },
   "source": "from main import *",
   "outputs": [],
   "execution_count": 1
  },
  {
   "metadata": {
    "ExecuteTime": {
     "end_time": "2025-05-09T22:41:21.611512Z",
     "start_time": "2025-05-09T22:40:39.457561Z"
    }
   },
   "cell_type": "code",
   "source": [
    "\n",
    "YEARS = [2018, 2019, 2021, 2022, 2023, 2024]\n",
    "SAVE_DIR = \"data\"\n",
    "\n",
    "fetch_lap_data(YEARS, save_dir=SAVE_DIR)\n",
    "fetch_car_data(YEARS, save_dir=SAVE_DIR)\n",
    "\n"
   ],
   "id": "22f914c3acf1baf6",
   "outputs": [
    {
     "name": "stderr",
     "output_type": "stream",
     "text": [
      "req         WARNING \tDEFAULT CACHE ENABLED! (659.66 MB) /Users/jigs/Library/Caches/fastf1\n",
      "core           INFO \tLoading data for Monaco Grand Prix - Race [v3.5.2]\n",
      "req            INFO \tUsing cached data for session_info\n",
      "req            INFO \tUsing cached data for driver_info\n"
     ]
    },
    {
     "name": "stdout",
     "output_type": "stream",
     "text": [
      "Fetching lap data for Monaco 2018...\n"
     ]
    },
    {
     "name": "stderr",
     "output_type": "stream",
     "text": [
      "req            INFO \tUsing cached data for session_status_data\n",
      "req            INFO \tUsing cached data for lap_count\n",
      "req            INFO \tUsing cached data for track_status_data\n",
      "req            INFO \tUsing cached data for _extended_timing_data\n",
      "req            INFO \tUsing cached data for timing_app_data\n",
      "core           INFO \tProcessing timing data...\n",
      "req            INFO \tUsing cached data for race_control_messages\n",
      "core           INFO \tFinished loading data for 20 drivers: ['3', '5', '44', '7', '77', '31', '10', '27', '33', '55', '9', '11', '20', '2', '8', '35', '18', '16', '28', '14']\n",
      "core           INFO \tLoading data for Monaco Grand Prix - Race [v3.5.2]\n",
      "req            INFO \tUsing cached data for session_info\n",
      "req            INFO \tUsing cached data for driver_info\n",
      "req            INFO \tUsing cached data for session_status_data\n",
      "req            INFO \tUsing cached data for lap_count\n",
      "req            INFO \tUsing cached data for track_status_data\n",
      "req            INFO \tUsing cached data for _extended_timing_data\n",
      "req            INFO \tUsing cached data for timing_app_data\n",
      "core           INFO \tProcessing timing data...\n"
     ]
    },
    {
     "name": "stdout",
     "output_type": "stream",
     "text": [
      "Saved lap data to data/monaco_laps_2018.csv\n",
      "Fetching lap data for Monaco 2019...\n"
     ]
    },
    {
     "name": "stderr",
     "output_type": "stream",
     "text": [
      "req            INFO \tUsing cached data for race_control_messages\n",
      "core           INFO \tFinished loading data for 20 drivers: ['44', '5', '77', '33', '10', '55', '26', '23', '3', '8', '4', '11', '27', '20', '63', '18', '7', '88', '99', '16']\n",
      "core           INFO \tLoading data for Monaco Grand Prix - Race [v3.5.2]\n",
      "req            INFO \tUsing cached data for session_info\n",
      "req            INFO \tUsing cached data for driver_info\n",
      "req            INFO \tUsing cached data for session_status_data\n",
      "req            INFO \tUsing cached data for lap_count\n",
      "req            INFO \tUsing cached data for track_status_data\n",
      "req            INFO \tUsing cached data for _extended_timing_data\n",
      "req            INFO \tUsing cached data for timing_app_data\n",
      "core           INFO \tProcessing timing data...\n"
     ]
    },
    {
     "name": "stdout",
     "output_type": "stream",
     "text": [
      "Saved lap data to data/monaco_laps_2019.csv\n",
      "Fetching lap data for Monaco 2021...\n"
     ]
    },
    {
     "name": "stderr",
     "output_type": "stream",
     "text": [
      "req            INFO \tUsing cached data for race_control_messages\n",
      "core           INFO \tFinished loading data for 20 drivers: ['33', '55', '4', '11', '5', '10', '44', '18', '31', '99', '7', '3', '14', '63', '6', '22', '9', '47', '77', '16']\n",
      "core           INFO \tLoading data for Monaco Grand Prix - Race [v3.5.2]\n",
      "req            INFO \tUsing cached data for session_info\n",
      "req            INFO \tUsing cached data for driver_info\n",
      "req            INFO \tUsing cached data for session_status_data\n",
      "req            INFO \tUsing cached data for lap_count\n",
      "req            INFO \tUsing cached data for track_status_data\n",
      "req            INFO \tUsing cached data for _extended_timing_data\n",
      "req            INFO \tUsing cached data for timing_app_data\n",
      "core           INFO \tProcessing timing data...\n"
     ]
    },
    {
     "name": "stdout",
     "output_type": "stream",
     "text": [
      "Saved lap data to data/monaco_laps_2021.csv\n",
      "Fetching lap data for Monaco 2022...\n"
     ]
    },
    {
     "name": "stderr",
     "output_type": "stream",
     "text": [
      "req            INFO \tUsing cached data for race_control_messages\n",
      "core           INFO \tFinished loading data for 20 drivers: ['11', '55', '1', '16', '63', '4', '14', '44', '77', '5', '10', '31', '3', '18', '6', '24', '22', '23', '47', '20']\n",
      "core           INFO \tLoading data for Monaco Grand Prix - Race [v3.5.2]\n",
      "req            INFO \tUsing cached data for session_info\n",
      "req            INFO \tUsing cached data for driver_info\n",
      "req            INFO \tUsing cached data for session_status_data\n",
      "req            INFO \tUsing cached data for lap_count\n",
      "req            INFO \tUsing cached data for track_status_data\n",
      "req            INFO \tUsing cached data for _extended_timing_data\n",
      "req            INFO \tUsing cached data for timing_app_data\n",
      "core           INFO \tProcessing timing data...\n"
     ]
    },
    {
     "name": "stdout",
     "output_type": "stream",
     "text": [
      "Saved lap data to data/monaco_laps_2022.csv\n",
      "Fetching lap data for Monaco 2023...\n"
     ]
    },
    {
     "name": "stderr",
     "output_type": "stream",
     "text": [
      "req            INFO \tUsing cached data for race_control_messages\n",
      "core           INFO \tFinished loading data for 20 drivers: ['1', '14', '31', '44', '63', '16', '10', '55', '4', '81', '77', '21', '24', '23', '22', '11', '27', '2', '20', '18']\n",
      "core           INFO \tLoading data for Monaco Grand Prix - Race [v3.5.2]\n",
      "req            INFO \tUsing cached data for session_info\n",
      "req            INFO \tUsing cached data for driver_info\n",
      "req            INFO \tUsing cached data for session_status_data\n",
      "req            INFO \tUsing cached data for lap_count\n",
      "req            INFO \tUsing cached data for track_status_data\n",
      "req            INFO \tUsing cached data for _extended_timing_data\n",
      "req            INFO \tUsing cached data for timing_app_data\n",
      "core           INFO \tProcessing timing data...\n"
     ]
    },
    {
     "name": "stdout",
     "output_type": "stream",
     "text": [
      "Saved lap data to data/monaco_laps_2023.csv\n",
      "Fetching lap data for Monaco 2024...\n"
     ]
    },
    {
     "name": "stderr",
     "output_type": "stream",
     "text": [
      "req            INFO \tUsing cached data for race_control_messages\n",
      "core           INFO \tFinished loading data for 20 drivers: ['16', '81', '55', '4', '63', '1', '44', '22', '23', '10', '14', '3', '77', '18', '2', '24', '31', '11', '27', '20']\n",
      "core           INFO \tLoading data for Monaco Grand Prix - Race [v3.5.2]\n",
      "req            INFO \tUsing cached data for session_info\n",
      "req            INFO \tUsing cached data for driver_info\n",
      "req            INFO \tUsing cached data for session_status_data\n",
      "req            INFO \tUsing cached data for lap_count\n",
      "req            INFO \tUsing cached data for track_status_data\n",
      "req            INFO \tUsing cached data for _extended_timing_data\n",
      "req            INFO \tUsing cached data for timing_app_data\n",
      "core           INFO \tProcessing timing data...\n"
     ]
    },
    {
     "name": "stdout",
     "output_type": "stream",
     "text": [
      "Saved lap data to data/monaco_laps_2024.csv\n",
      "Fetching car data for Monaco 2018...\n"
     ]
    },
    {
     "name": "stderr",
     "output_type": "stream",
     "text": [
      "req            INFO \tUsing cached data for car_data\n",
      "req            INFO \tUsing cached data for position_data\n",
      "req            INFO \tUsing cached data for weather_data\n",
      "req            INFO \tUsing cached data for race_control_messages\n",
      "core           INFO \tFinished loading data for 20 drivers: ['3', '5', '44', '7', '77', '31', '10', '27', '33', '55', '9', '11', '20', '2', '8', '35', '18', '16', '28', '14']\n"
     ]
    },
    {
     "name": "stdout",
     "output_type": "stream",
     "text": [
      "  Saved data/car_data_2018_driver_3.csv\n",
      "  Saved data/car_data_2018_driver_5.csv\n",
      "  Saved data/car_data_2018_driver_44.csv\n",
      "  Saved data/car_data_2018_driver_7.csv\n",
      "  Saved data/car_data_2018_driver_77.csv\n",
      "  Saved data/car_data_2018_driver_31.csv\n",
      "  Saved data/car_data_2018_driver_10.csv\n",
      "  Saved data/car_data_2018_driver_27.csv\n",
      "  Saved data/car_data_2018_driver_33.csv\n",
      "  Saved data/car_data_2018_driver_55.csv\n",
      "  Saved data/car_data_2018_driver_9.csv\n",
      "  Saved data/car_data_2018_driver_11.csv\n",
      "  Saved data/car_data_2018_driver_20.csv\n",
      "  Saved data/car_data_2018_driver_2.csv\n",
      "  Saved data/car_data_2018_driver_8.csv\n",
      "  Saved data/car_data_2018_driver_35.csv\n",
      "  Saved data/car_data_2018_driver_18.csv\n",
      "  Saved data/car_data_2018_driver_16.csv\n"
     ]
    },
    {
     "name": "stderr",
     "output_type": "stream",
     "text": [
      "core           INFO \tLoading data for Monaco Grand Prix - Race [v3.5.2]\n",
      "req            INFO \tUsing cached data for session_info\n",
      "req            INFO \tUsing cached data for driver_info\n",
      "req            INFO \tUsing cached data for session_status_data\n",
      "req            INFO \tUsing cached data for lap_count\n",
      "req            INFO \tUsing cached data for track_status_data\n",
      "req            INFO \tUsing cached data for _extended_timing_data\n",
      "req            INFO \tUsing cached data for timing_app_data\n",
      "core           INFO \tProcessing timing data...\n"
     ]
    },
    {
     "name": "stdout",
     "output_type": "stream",
     "text": [
      "  Saved data/car_data_2018_driver_28.csv\n",
      "  Saved data/car_data_2018_driver_14.csv\n",
      "Fetching car data for Monaco 2019...\n"
     ]
    },
    {
     "name": "stderr",
     "output_type": "stream",
     "text": [
      "req            INFO \tUsing cached data for car_data\n",
      "req            INFO \tUsing cached data for position_data\n",
      "req            INFO \tUsing cached data for weather_data\n",
      "req            INFO \tUsing cached data for race_control_messages\n",
      "core           INFO \tFinished loading data for 20 drivers: ['44', '5', '77', '33', '10', '55', '26', '23', '3', '8', '4', '11', '27', '20', '63', '18', '7', '88', '99', '16']\n"
     ]
    },
    {
     "name": "stdout",
     "output_type": "stream",
     "text": [
      "  Saved data/car_data_2019_driver_44.csv\n",
      "  Saved data/car_data_2019_driver_5.csv\n",
      "  Saved data/car_data_2019_driver_77.csv\n",
      "  Saved data/car_data_2019_driver_33.csv\n",
      "  Saved data/car_data_2019_driver_10.csv\n",
      "  Saved data/car_data_2019_driver_55.csv\n",
      "  Saved data/car_data_2019_driver_26.csv\n",
      "  Saved data/car_data_2019_driver_23.csv\n",
      "  Saved data/car_data_2019_driver_3.csv\n",
      "  Saved data/car_data_2019_driver_8.csv\n",
      "  Saved data/car_data_2019_driver_4.csv\n",
      "  Saved data/car_data_2019_driver_11.csv\n",
      "  Saved data/car_data_2019_driver_27.csv\n",
      "  Saved data/car_data_2019_driver_20.csv\n",
      "  Saved data/car_data_2019_driver_63.csv\n",
      "  Saved data/car_data_2019_driver_18.csv\n",
      "  Saved data/car_data_2019_driver_7.csv\n",
      "  Saved data/car_data_2019_driver_88.csv\n"
     ]
    },
    {
     "name": "stderr",
     "output_type": "stream",
     "text": [
      "core           INFO \tLoading data for Monaco Grand Prix - Race [v3.5.2]\n",
      "req            INFO \tUsing cached data for session_info\n",
      "req            INFO \tUsing cached data for driver_info\n",
      "req            INFO \tUsing cached data for session_status_data\n",
      "req            INFO \tUsing cached data for lap_count\n",
      "req            INFO \tUsing cached data for track_status_data\n",
      "req            INFO \tUsing cached data for _extended_timing_data\n",
      "req            INFO \tUsing cached data for timing_app_data\n",
      "core           INFO \tProcessing timing data...\n"
     ]
    },
    {
     "name": "stdout",
     "output_type": "stream",
     "text": [
      "  Saved data/car_data_2019_driver_99.csv\n",
      "  Saved data/car_data_2019_driver_16.csv\n",
      "Fetching car data for Monaco 2021...\n"
     ]
    },
    {
     "name": "stderr",
     "output_type": "stream",
     "text": [
      "req            INFO \tUsing cached data for car_data\n",
      "req            INFO \tUsing cached data for position_data\n",
      "req            INFO \tUsing cached data for weather_data\n",
      "req            INFO \tUsing cached data for race_control_messages\n",
      "core           INFO \tFinished loading data for 20 drivers: ['33', '55', '4', '11', '5', '10', '44', '18', '31', '99', '7', '3', '14', '63', '6', '22', '9', '47', '77', '16']\n"
     ]
    },
    {
     "name": "stdout",
     "output_type": "stream",
     "text": [
      "  Saved data/car_data_2021_driver_33.csv\n",
      "  Saved data/car_data_2021_driver_55.csv\n",
      "  Saved data/car_data_2021_driver_4.csv\n",
      "  Saved data/car_data_2021_driver_11.csv\n",
      "  Saved data/car_data_2021_driver_5.csv\n",
      "  Saved data/car_data_2021_driver_10.csv\n",
      "  Saved data/car_data_2021_driver_44.csv\n",
      "  Saved data/car_data_2021_driver_18.csv\n",
      "  Saved data/car_data_2021_driver_31.csv\n",
      "  Saved data/car_data_2021_driver_99.csv\n",
      "  Saved data/car_data_2021_driver_7.csv\n",
      "  Saved data/car_data_2021_driver_3.csv\n",
      "  Saved data/car_data_2021_driver_14.csv\n",
      "  Saved data/car_data_2021_driver_63.csv\n",
      "  Saved data/car_data_2021_driver_6.csv\n",
      "  Saved data/car_data_2021_driver_22.csv\n",
      "  Saved data/car_data_2021_driver_9.csv\n"
     ]
    },
    {
     "name": "stderr",
     "output_type": "stream",
     "text": [
      "core           INFO \tLoading data for Monaco Grand Prix - Race [v3.5.2]\n",
      "req            INFO \tUsing cached data for session_info\n",
      "req            INFO \tUsing cached data for driver_info\n",
      "req            INFO \tUsing cached data for session_status_data\n",
      "req            INFO \tUsing cached data for lap_count\n",
      "req            INFO \tUsing cached data for track_status_data\n",
      "req            INFO \tUsing cached data for _extended_timing_data\n",
      "req            INFO \tUsing cached data for timing_app_data\n",
      "core           INFO \tProcessing timing data...\n"
     ]
    },
    {
     "name": "stdout",
     "output_type": "stream",
     "text": [
      "  Saved data/car_data_2021_driver_47.csv\n",
      "  Saved data/car_data_2021_driver_77.csv\n",
      "  Saved data/car_data_2021_driver_16.csv\n",
      "Fetching car data for Monaco 2022...\n"
     ]
    },
    {
     "name": "stderr",
     "output_type": "stream",
     "text": [
      "req            INFO \tUsing cached data for car_data\n",
      "req            INFO \tUsing cached data for position_data\n",
      "req            INFO \tUsing cached data for weather_data\n",
      "req            INFO \tUsing cached data for race_control_messages\n",
      "core           INFO \tFinished loading data for 20 drivers: ['11', '55', '1', '16', '63', '4', '14', '44', '77', '5', '10', '31', '3', '18', '6', '24', '22', '23', '47', '20']\n"
     ]
    },
    {
     "name": "stdout",
     "output_type": "stream",
     "text": [
      "  Saved data/car_data_2022_driver_11.csv\n",
      "  Saved data/car_data_2022_driver_55.csv\n",
      "  Saved data/car_data_2022_driver_1.csv\n",
      "  Saved data/car_data_2022_driver_16.csv\n",
      "  Saved data/car_data_2022_driver_63.csv\n",
      "  Saved data/car_data_2022_driver_4.csv\n",
      "  Saved data/car_data_2022_driver_14.csv\n",
      "  Saved data/car_data_2022_driver_44.csv\n",
      "  Saved data/car_data_2022_driver_77.csv\n",
      "  Saved data/car_data_2022_driver_5.csv\n",
      "  Saved data/car_data_2022_driver_10.csv\n",
      "  Saved data/car_data_2022_driver_31.csv\n",
      "  Saved data/car_data_2022_driver_3.csv\n",
      "  Saved data/car_data_2022_driver_18.csv\n",
      "  Saved data/car_data_2022_driver_6.csv\n",
      "  Saved data/car_data_2022_driver_24.csv\n",
      "  Saved data/car_data_2022_driver_22.csv\n",
      "  Saved data/car_data_2022_driver_23.csv\n"
     ]
    },
    {
     "name": "stderr",
     "output_type": "stream",
     "text": [
      "core           INFO \tLoading data for Monaco Grand Prix - Race [v3.5.2]\n",
      "req            INFO \tUsing cached data for session_info\n",
      "req            INFO \tUsing cached data for driver_info\n",
      "req            INFO \tUsing cached data for session_status_data\n",
      "req            INFO \tUsing cached data for lap_count\n",
      "req            INFO \tUsing cached data for track_status_data\n",
      "req            INFO \tUsing cached data for _extended_timing_data\n",
      "req            INFO \tUsing cached data for timing_app_data\n",
      "core           INFO \tProcessing timing data...\n"
     ]
    },
    {
     "name": "stdout",
     "output_type": "stream",
     "text": [
      "  Saved data/car_data_2022_driver_47.csv\n",
      "  Saved data/car_data_2022_driver_20.csv\n",
      "Fetching car data for Monaco 2023...\n"
     ]
    },
    {
     "name": "stderr",
     "output_type": "stream",
     "text": [
      "req            INFO \tUsing cached data for car_data\n",
      "req            INFO \tUsing cached data for position_data\n",
      "req            INFO \tUsing cached data for weather_data\n",
      "req            INFO \tUsing cached data for race_control_messages\n",
      "core           INFO \tFinished loading data for 20 drivers: ['1', '14', '31', '44', '63', '16', '10', '55', '4', '81', '77', '21', '24', '23', '22', '11', '27', '2', '20', '18']\n"
     ]
    },
    {
     "name": "stdout",
     "output_type": "stream",
     "text": [
      "  Saved data/car_data_2023_driver_1.csv\n",
      "  Saved data/car_data_2023_driver_14.csv\n",
      "  Saved data/car_data_2023_driver_31.csv\n",
      "  Saved data/car_data_2023_driver_44.csv\n",
      "  Saved data/car_data_2023_driver_63.csv\n",
      "  Saved data/car_data_2023_driver_16.csv\n",
      "  Saved data/car_data_2023_driver_10.csv\n",
      "  Saved data/car_data_2023_driver_55.csv\n",
      "  Saved data/car_data_2023_driver_4.csv\n",
      "  Saved data/car_data_2023_driver_81.csv\n",
      "  Saved data/car_data_2023_driver_77.csv\n",
      "  Saved data/car_data_2023_driver_21.csv\n",
      "  Saved data/car_data_2023_driver_24.csv\n",
      "  Saved data/car_data_2023_driver_23.csv\n",
      "  Saved data/car_data_2023_driver_22.csv\n",
      "  Saved data/car_data_2023_driver_11.csv\n",
      "  Saved data/car_data_2023_driver_27.csv\n",
      "  Saved data/car_data_2023_driver_2.csv\n"
     ]
    },
    {
     "name": "stderr",
     "output_type": "stream",
     "text": [
      "core           INFO \tLoading data for Monaco Grand Prix - Race [v3.5.2]\n",
      "req            INFO \tUsing cached data for session_info\n",
      "req            INFO \tUsing cached data for driver_info\n",
      "req            INFO \tUsing cached data for session_status_data\n",
      "req            INFO \tUsing cached data for lap_count\n",
      "req            INFO \tUsing cached data for track_status_data\n",
      "req            INFO \tUsing cached data for _extended_timing_data\n",
      "req            INFO \tUsing cached data for timing_app_data\n",
      "core           INFO \tProcessing timing data...\n"
     ]
    },
    {
     "name": "stdout",
     "output_type": "stream",
     "text": [
      "  Saved data/car_data_2023_driver_20.csv\n",
      "  Saved data/car_data_2023_driver_18.csv\n",
      "Fetching car data for Monaco 2024...\n"
     ]
    },
    {
     "name": "stderr",
     "output_type": "stream",
     "text": [
      "req            INFO \tUsing cached data for car_data\n",
      "req            INFO \tUsing cached data for position_data\n",
      "req            INFO \tUsing cached data for weather_data\n",
      "req            INFO \tUsing cached data for race_control_messages\n",
      "core           INFO \tFinished loading data for 20 drivers: ['16', '81', '55', '4', '63', '1', '44', '22', '23', '10', '14', '3', '77', '18', '2', '24', '31', '11', '27', '20']\n"
     ]
    },
    {
     "name": "stdout",
     "output_type": "stream",
     "text": [
      "  Saved data/car_data_2024_driver_16.csv\n",
      "  Saved data/car_data_2024_driver_81.csv\n",
      "  Saved data/car_data_2024_driver_55.csv\n",
      "  Saved data/car_data_2024_driver_4.csv\n",
      "  Saved data/car_data_2024_driver_63.csv\n",
      "  Saved data/car_data_2024_driver_1.csv\n",
      "  Saved data/car_data_2024_driver_44.csv\n",
      "  Saved data/car_data_2024_driver_22.csv\n",
      "  Saved data/car_data_2024_driver_23.csv\n",
      "  Saved data/car_data_2024_driver_10.csv\n",
      "  Saved data/car_data_2024_driver_14.csv\n",
      "  Saved data/car_data_2024_driver_3.csv\n",
      "  Saved data/car_data_2024_driver_77.csv\n",
      "  Saved data/car_data_2024_driver_18.csv\n",
      "  Saved data/car_data_2024_driver_2.csv\n",
      "  Saved data/car_data_2024_driver_24.csv\n",
      "  Saved data/car_data_2024_driver_31.csv\n",
      "  Saved data/car_data_2024_driver_11.csv\n",
      "  Saved data/car_data_2024_driver_27.csv\n",
      "  Saved data/car_data_2024_driver_20.csv\n"
     ]
    }
   ],
   "execution_count": 2
  },
  {
   "metadata": {
    "ExecuteTime": {
     "end_time": "2025-05-09T22:41:57.517553Z",
     "start_time": "2025-05-09T22:41:21.650291Z"
    }
   },
   "cell_type": "code",
   "source": [
    "# Set parameters\n",
    "DATA_DIR = \"data\"\n",
    "\n",
    "# Step 1: Annotate telemetry data with LapNumber for each year\n",
    "for year in YEARS:\n",
    "    annotate_lap_number(year, data_dir=DATA_DIR)\n",
    "\n",
    "# Step 2: Aggregate telemetry per lap and per driver\n",
    "df_all_years = aggregate_car_data(YEARS, data_dir=DATA_DIR)\n",
    "\n",
    "# Step 3: Display preview\n",
    "df_all_years.head()\n"
   ],
   "id": "132a4b20c042144d",
   "outputs": [
    {
     "name": "stdout",
     "output_type": "stream",
     "text": [
      "Annotating lap numbers for 2018...\n",
      "Saved annotated car data to data/car_data_with_lap_2018.csv with 505054 rows.\n",
      "Annotating lap numbers for 2019...\n",
      "Saved annotated car data to data/car_data_with_lap_2019.csv with 505445 rows.\n",
      "Annotating lap numbers for 2021...\n",
      "Saved annotated car data to data/car_data_with_lap_2021.csv with 455972 rows.\n",
      "Annotating lap numbers for 2022...\n",
      "Saved annotated car data to data/car_data_with_lap_2022.csv with 487790 rows.\n",
      "Annotating lap numbers for 2023...\n",
      "Saved annotated car data to data/car_data_with_lap_2023.csv with 486247 rows.\n",
      "Annotating lap numbers for 2024...\n",
      "Saved annotated car data to data/car_data_with_lap_2024.csv with 518492 rows.\n",
      "Aggregating car data for 2018...\n",
      "Saved: data/aggregated_car_data_2018.csv\n",
      "Aggregating car data for 2019...\n",
      "Saved: data/aggregated_car_data_2019.csv\n",
      "Aggregating car data for 2021...\n",
      "Saved: data/aggregated_car_data_2021.csv\n",
      "Aggregating car data for 2022...\n",
      "Saved: data/aggregated_car_data_2022.csv\n",
      "Aggregating car data for 2023...\n",
      "Saved: data/aggregated_car_data_2023.csv\n",
      "Aggregating car data for 2024...\n",
      "Saved: data/aggregated_car_data_2024.csv\n",
      "Saved combined: data/aggregated_car_data_all_years.csv\n"
     ]
    },
    {
     "data": {
      "text/plain": [
       "   DriverNumber  LapNumber          RPM     nGear   Throttle  Brake  DRS  Year\n",
       "0             2          1  9241.715976  3.328402  40.363905    105    0  2018\n",
       "1             2          2  9468.847305  3.694611  43.904192     98    0  2018\n",
       "2             2          3  9465.868657  3.785075  44.597015    107    7  2018\n",
       "3             2          4  9417.035821  3.817910  42.958209    101   19  2018\n",
       "4             2          5  9434.817365  3.850299  42.473054    102   19  2018"
      ],
      "text/html": [
       "<div>\n",
       "<style scoped>\n",
       "    .dataframe tbody tr th:only-of-type {\n",
       "        vertical-align: middle;\n",
       "    }\n",
       "\n",
       "    .dataframe tbody tr th {\n",
       "        vertical-align: top;\n",
       "    }\n",
       "\n",
       "    .dataframe thead th {\n",
       "        text-align: right;\n",
       "    }\n",
       "</style>\n",
       "<table border=\"1\" class=\"dataframe\">\n",
       "  <thead>\n",
       "    <tr style=\"text-align: right;\">\n",
       "      <th></th>\n",
       "      <th>DriverNumber</th>\n",
       "      <th>LapNumber</th>\n",
       "      <th>RPM</th>\n",
       "      <th>nGear</th>\n",
       "      <th>Throttle</th>\n",
       "      <th>Brake</th>\n",
       "      <th>DRS</th>\n",
       "      <th>Year</th>\n",
       "    </tr>\n",
       "  </thead>\n",
       "  <tbody>\n",
       "    <tr>\n",
       "      <th>0</th>\n",
       "      <td>2</td>\n",
       "      <td>1</td>\n",
       "      <td>9241.715976</td>\n",
       "      <td>3.328402</td>\n",
       "      <td>40.363905</td>\n",
       "      <td>105</td>\n",
       "      <td>0</td>\n",
       "      <td>2018</td>\n",
       "    </tr>\n",
       "    <tr>\n",
       "      <th>1</th>\n",
       "      <td>2</td>\n",
       "      <td>2</td>\n",
       "      <td>9468.847305</td>\n",
       "      <td>3.694611</td>\n",
       "      <td>43.904192</td>\n",
       "      <td>98</td>\n",
       "      <td>0</td>\n",
       "      <td>2018</td>\n",
       "    </tr>\n",
       "    <tr>\n",
       "      <th>2</th>\n",
       "      <td>2</td>\n",
       "      <td>3</td>\n",
       "      <td>9465.868657</td>\n",
       "      <td>3.785075</td>\n",
       "      <td>44.597015</td>\n",
       "      <td>107</td>\n",
       "      <td>7</td>\n",
       "      <td>2018</td>\n",
       "    </tr>\n",
       "    <tr>\n",
       "      <th>3</th>\n",
       "      <td>2</td>\n",
       "      <td>4</td>\n",
       "      <td>9417.035821</td>\n",
       "      <td>3.817910</td>\n",
       "      <td>42.958209</td>\n",
       "      <td>101</td>\n",
       "      <td>19</td>\n",
       "      <td>2018</td>\n",
       "    </tr>\n",
       "    <tr>\n",
       "      <th>4</th>\n",
       "      <td>2</td>\n",
       "      <td>5</td>\n",
       "      <td>9434.817365</td>\n",
       "      <td>3.850299</td>\n",
       "      <td>42.473054</td>\n",
       "      <td>102</td>\n",
       "      <td>19</td>\n",
       "      <td>2018</td>\n",
       "    </tr>\n",
       "  </tbody>\n",
       "</table>\n",
       "</div>"
      ]
     },
     "execution_count": 3,
     "metadata": {},
     "output_type": "execute_result"
    }
   ],
   "execution_count": 3
  },
  {
   "metadata": {
    "ExecuteTime": {
     "end_time": "2025-05-09T22:42:00.714194Z",
     "start_time": "2025-05-09T22:41:57.548900Z"
    }
   },
   "cell_type": "code",
   "source": [
    "fetch_weather_data(YEARS, save_dir=\"data\")\n",
    "df_weather_all_years = annotate_and_aggregate_weather(YEARS, lap_data_dir=\"data\", weather_dir=\"data\")\n"
   ],
   "id": "3836723e51b3e0d4",
   "outputs": [
    {
     "name": "stderr",
     "output_type": "stream",
     "text": [
      "core           INFO \tLoading data for Monaco Grand Prix - Race [v3.5.2]\n",
      "req            INFO \tUsing cached data for session_info\n",
      "req            INFO \tUsing cached data for driver_info\n",
      "req            INFO \tUsing cached data for session_status_data\n",
      "req            INFO \tUsing cached data for lap_count\n",
      "req            INFO \tUsing cached data for track_status_data\n",
      "req            INFO \tUsing cached data for _extended_timing_data\n",
      "req            INFO \tUsing cached data for timing_app_data\n",
      "core           INFO \tProcessing timing data...\n"
     ]
    },
    {
     "name": "stdout",
     "output_type": "stream",
     "text": [
      "Fetching weather data for Monaco 2018...\n"
     ]
    },
    {
     "name": "stderr",
     "output_type": "stream",
     "text": [
      "req            INFO \tUsing cached data for weather_data\n",
      "req            INFO \tUsing cached data for race_control_messages\n",
      "core           INFO \tFinished loading data for 20 drivers: ['3', '5', '44', '7', '77', '31', '10', '27', '33', '55', '9', '11', '20', '2', '8', '35', '18', '16', '28', '14']\n",
      "core           INFO \tLoading data for Monaco Grand Prix - Race [v3.5.2]\n",
      "req            INFO \tUsing cached data for session_info\n",
      "req            INFO \tUsing cached data for driver_info\n",
      "req            INFO \tUsing cached data for session_status_data\n",
      "req            INFO \tUsing cached data for lap_count\n",
      "req            INFO \tUsing cached data for track_status_data\n",
      "req            INFO \tUsing cached data for _extended_timing_data\n",
      "req            INFO \tUsing cached data for timing_app_data\n",
      "core           INFO \tProcessing timing data...\n"
     ]
    },
    {
     "name": "stdout",
     "output_type": "stream",
     "text": [
      "  Saved weather_2018.csv\n",
      "Fetching weather data for Monaco 2019...\n"
     ]
    },
    {
     "name": "stderr",
     "output_type": "stream",
     "text": [
      "req            INFO \tUsing cached data for weather_data\n",
      "req            INFO \tUsing cached data for race_control_messages\n",
      "core           INFO \tFinished loading data for 20 drivers: ['44', '5', '77', '33', '10', '55', '26', '23', '3', '8', '4', '11', '27', '20', '63', '18', '7', '88', '99', '16']\n",
      "core           INFO \tLoading data for Monaco Grand Prix - Race [v3.5.2]\n",
      "req            INFO \tUsing cached data for session_info\n",
      "req            INFO \tUsing cached data for driver_info\n",
      "req            INFO \tUsing cached data for session_status_data\n",
      "req            INFO \tUsing cached data for lap_count\n",
      "req            INFO \tUsing cached data for track_status_data\n",
      "req            INFO \tUsing cached data for _extended_timing_data\n",
      "req            INFO \tUsing cached data for timing_app_data\n",
      "core           INFO \tProcessing timing data...\n"
     ]
    },
    {
     "name": "stdout",
     "output_type": "stream",
     "text": [
      "  Saved weather_2019.csv\n",
      "Fetching weather data for Monaco 2021...\n"
     ]
    },
    {
     "name": "stderr",
     "output_type": "stream",
     "text": [
      "req            INFO \tUsing cached data for weather_data\n",
      "req            INFO \tUsing cached data for race_control_messages\n",
      "core           INFO \tFinished loading data for 20 drivers: ['33', '55', '4', '11', '5', '10', '44', '18', '31', '99', '7', '3', '14', '63', '6', '22', '9', '47', '77', '16']\n",
      "core           INFO \tLoading data for Monaco Grand Prix - Race [v3.5.2]\n",
      "req            INFO \tUsing cached data for session_info\n",
      "req            INFO \tUsing cached data for driver_info\n",
      "req            INFO \tUsing cached data for session_status_data\n",
      "req            INFO \tUsing cached data for lap_count\n",
      "req            INFO \tUsing cached data for track_status_data\n",
      "req            INFO \tUsing cached data for _extended_timing_data\n",
      "req            INFO \tUsing cached data for timing_app_data\n",
      "core           INFO \tProcessing timing data...\n"
     ]
    },
    {
     "name": "stdout",
     "output_type": "stream",
     "text": [
      "  Saved weather_2021.csv\n",
      "Fetching weather data for Monaco 2022...\n"
     ]
    },
    {
     "name": "stderr",
     "output_type": "stream",
     "text": [
      "req            INFO \tUsing cached data for weather_data\n",
      "req            INFO \tUsing cached data for race_control_messages\n",
      "core           INFO \tFinished loading data for 20 drivers: ['11', '55', '1', '16', '63', '4', '14', '44', '77', '5', '10', '31', '3', '18', '6', '24', '22', '23', '47', '20']\n",
      "core           INFO \tLoading data for Monaco Grand Prix - Race [v3.5.2]\n",
      "req            INFO \tUsing cached data for session_info\n",
      "req            INFO \tUsing cached data for driver_info\n",
      "req            INFO \tUsing cached data for session_status_data\n",
      "req            INFO \tUsing cached data for lap_count\n",
      "req            INFO \tUsing cached data for track_status_data\n",
      "req            INFO \tUsing cached data for _extended_timing_data\n",
      "req            INFO \tUsing cached data for timing_app_data\n",
      "core           INFO \tProcessing timing data...\n"
     ]
    },
    {
     "name": "stdout",
     "output_type": "stream",
     "text": [
      "  Saved weather_2022.csv\n",
      "Fetching weather data for Monaco 2023...\n"
     ]
    },
    {
     "name": "stderr",
     "output_type": "stream",
     "text": [
      "req            INFO \tUsing cached data for weather_data\n",
      "req            INFO \tUsing cached data for race_control_messages\n",
      "core           INFO \tFinished loading data for 20 drivers: ['1', '14', '31', '44', '63', '16', '10', '55', '4', '81', '77', '21', '24', '23', '22', '11', '27', '2', '20', '18']\n",
      "core           INFO \tLoading data for Monaco Grand Prix - Race [v3.5.2]\n",
      "req            INFO \tUsing cached data for session_info\n",
      "req            INFO \tUsing cached data for driver_info\n",
      "req            INFO \tUsing cached data for session_status_data\n",
      "req            INFO \tUsing cached data for lap_count\n",
      "req            INFO \tUsing cached data for track_status_data\n",
      "req            INFO \tUsing cached data for _extended_timing_data\n",
      "req            INFO \tUsing cached data for timing_app_data\n",
      "core           INFO \tProcessing timing data...\n"
     ]
    },
    {
     "name": "stdout",
     "output_type": "stream",
     "text": [
      "  Saved weather_2023.csv\n",
      "Fetching weather data for Monaco 2024...\n"
     ]
    },
    {
     "name": "stderr",
     "output_type": "stream",
     "text": [
      "req            INFO \tUsing cached data for weather_data\n",
      "req            INFO \tUsing cached data for race_control_messages\n",
      "core           INFO \tFinished loading data for 20 drivers: ['16', '81', '55', '4', '63', '1', '44', '22', '23', '10', '14', '3', '77', '18', '2', '24', '31', '11', '27', '20']\n"
     ]
    },
    {
     "name": "stdout",
     "output_type": "stream",
     "text": [
      "  Saved weather_2024.csv\n",
      "  Processed weather for 2018\n",
      "  Processed weather for 2019\n",
      "  Processed weather for 2021\n",
      "  Processed weather for 2022\n",
      "  Processed weather for 2023\n",
      "  Processed weather for 2024\n",
      "✅ Aggregated weather saved to data/aggregated_weather_all_years.csv\n"
     ]
    }
   ],
   "execution_count": 4
  },
  {
   "metadata": {
    "ExecuteTime": {
     "end_time": "2025-05-09T22:42:00.963373Z",
     "start_time": "2025-05-09T22:42:00.737886Z"
    }
   },
   "cell_type": "code",
   "source": [
    "\n",
    "# Step 1\n",
    "df_laps_all = concat_lap_metadata(YEARS, data_dir=\"data\")\n",
    "\n",
    "# Step 2\n",
    "df_car_lap = merge_car_with_laps(\"data/aggregated_car_data_all_years.csv\", df_laps_all, output_path=\"data/car_lap_merged.csv\")\n",
    "\n",
    "# Step 3\n",
    "final_df = merge_with_weather(\"data/aggregated_weather_all_years.csv\", df_car_lap, output_path=\"data/merged_lap_car_weather_all_years.csv\")\n"
   ],
   "id": "43d8f00ef37bb470",
   "outputs": [
    {
     "name": "stdout",
     "output_type": "stream",
     "text": [
      "✅ Saved all-year lap metadata to lap_metadata_all_years.csv\n",
      "✅ Merged car + lap data saved to data/car_lap_merged.csv\n",
      "✅ Final full dataset saved to data/merged_lap_car_weather_all_years.csv\n"
     ]
    }
   ],
   "execution_count": 5
  },
  {
   "metadata": {
    "ExecuteTime": {
     "end_time": "2025-05-09T22:42:00.995281Z",
     "start_time": "2025-05-09T22:42:00.985485Z"
    }
   },
   "cell_type": "code",
   "source": "final_df",
   "id": "62e1bf0236d2a048",
   "outputs": [
    {
     "data": {
      "text/plain": [
       "      LapNumber  AirTemp  Humidity  Pressure  TrackTemp  WindDirection  \\\n",
       "0           1.0    25.70      51.0   1015.65      33.75          193.0   \n",
       "1           2.0    26.00      50.7   1015.60      33.90          181.0   \n",
       "2           3.0    26.00      50.7   1015.60      33.90          181.0   \n",
       "3           4.0    26.10      50.0   1015.60      33.90          283.0   \n",
       "4           5.0    26.60      48.6   1015.60      33.60          232.0   \n",
       "...         ...      ...       ...       ...        ...            ...   \n",
       "8306       72.0    21.60      61.5   1018.40      40.50          211.5   \n",
       "8307       73.0    21.70      61.0   1018.40      40.80          293.0   \n",
       "8308       74.0    21.70      61.0   1018.40      40.80          214.0   \n",
       "8309       75.0    21.70      61.0   1018.40      40.60          353.0   \n",
       "8310       76.0    21.75      61.0   1018.40      40.75          221.5   \n",
       "\n",
       "      WindSpeed  Rainfall  Year  DriverNumber  ...  FreshTyre         Team  \\\n",
       "0          0.70       1.0  2018            10  ...       True   Toro Rosso   \n",
       "1          0.60       1.0  2018            10  ...      False   Toro Rosso   \n",
       "2          0.60       1.0  2018            10  ...      False   Toro Rosso   \n",
       "3          1.00       1.0  2018            10  ...      False   Toro Rosso   \n",
       "4          1.65       2.0  2018            10  ...      False   Toro Rosso   \n",
       "...         ...       ...   ...           ...  ...        ...          ...   \n",
       "8306       0.70       0.0  2024            24  ...       True  Kick Sauber   \n",
       "8307       1.10       0.0  2024            24  ...       True  Kick Sauber   \n",
       "8308       0.70       0.0  2024            24  ...       True  Kick Sauber   \n",
       "8309       0.60       0.0  2024            24  ...       True  Kick Sauber   \n",
       "8310       1.05       0.0  2024            24  ...       True  Kick Sauber   \n",
       "\n",
       "                LapStartTime  LapStartDate  TrackStatus Position Deleted  \\\n",
       "0     0 days 00:06:47.319000           NaN            2     10.0   False   \n",
       "1     0 days 00:08:19.100000           NaN           21     10.0   False   \n",
       "2     0 days 00:09:39.719000           NaN            1     10.0   False   \n",
       "3     0 days 00:10:59.531000           NaN            1     10.0   False   \n",
       "4     0 days 00:12:19.093000           NaN            1     10.0   False   \n",
       "...                      ...           ...          ...      ...     ...   \n",
       "8306  0 days 03:12:48.585000           NaN            1     16.0   False   \n",
       "8307  0 days 03:14:09.170000           NaN            1     16.0   False   \n",
       "8308  0 days 03:15:24.403000           NaN            1     16.0   False   \n",
       "8309  0 days 03:16:44.876000           NaN            1     16.0   False   \n",
       "8310  0 days 03:17:59.594000           NaN            1     16.0   False   \n",
       "\n",
       "     DeletedReason  FastF1Generated IsAccurate  \n",
       "0              NaN            False      False  \n",
       "1              NaN            False       True  \n",
       "2              NaN            False       True  \n",
       "3              NaN            False       True  \n",
       "4              NaN            False       True  \n",
       "...            ...              ...        ...  \n",
       "8306           NaN            False       True  \n",
       "8307           NaN            False       True  \n",
       "8308           NaN            False       True  \n",
       "8309           NaN            False       True  \n",
       "8310           NaN            False       True  \n",
       "\n",
       "[8311 rows x 44 columns]"
      ],
      "text/html": [
       "<div>\n",
       "<style scoped>\n",
       "    .dataframe tbody tr th:only-of-type {\n",
       "        vertical-align: middle;\n",
       "    }\n",
       "\n",
       "    .dataframe tbody tr th {\n",
       "        vertical-align: top;\n",
       "    }\n",
       "\n",
       "    .dataframe thead th {\n",
       "        text-align: right;\n",
       "    }\n",
       "</style>\n",
       "<table border=\"1\" class=\"dataframe\">\n",
       "  <thead>\n",
       "    <tr style=\"text-align: right;\">\n",
       "      <th></th>\n",
       "      <th>LapNumber</th>\n",
       "      <th>AirTemp</th>\n",
       "      <th>Humidity</th>\n",
       "      <th>Pressure</th>\n",
       "      <th>TrackTemp</th>\n",
       "      <th>WindDirection</th>\n",
       "      <th>WindSpeed</th>\n",
       "      <th>Rainfall</th>\n",
       "      <th>Year</th>\n",
       "      <th>DriverNumber</th>\n",
       "      <th>...</th>\n",
       "      <th>FreshTyre</th>\n",
       "      <th>Team</th>\n",
       "      <th>LapStartTime</th>\n",
       "      <th>LapStartDate</th>\n",
       "      <th>TrackStatus</th>\n",
       "      <th>Position</th>\n",
       "      <th>Deleted</th>\n",
       "      <th>DeletedReason</th>\n",
       "      <th>FastF1Generated</th>\n",
       "      <th>IsAccurate</th>\n",
       "    </tr>\n",
       "  </thead>\n",
       "  <tbody>\n",
       "    <tr>\n",
       "      <th>0</th>\n",
       "      <td>1.0</td>\n",
       "      <td>25.70</td>\n",
       "      <td>51.0</td>\n",
       "      <td>1015.65</td>\n",
       "      <td>33.75</td>\n",
       "      <td>193.0</td>\n",
       "      <td>0.70</td>\n",
       "      <td>1.0</td>\n",
       "      <td>2018</td>\n",
       "      <td>10</td>\n",
       "      <td>...</td>\n",
       "      <td>True</td>\n",
       "      <td>Toro Rosso</td>\n",
       "      <td>0 days 00:06:47.319000</td>\n",
       "      <td>NaN</td>\n",
       "      <td>2</td>\n",
       "      <td>10.0</td>\n",
       "      <td>False</td>\n",
       "      <td>NaN</td>\n",
       "      <td>False</td>\n",
       "      <td>False</td>\n",
       "    </tr>\n",
       "    <tr>\n",
       "      <th>1</th>\n",
       "      <td>2.0</td>\n",
       "      <td>26.00</td>\n",
       "      <td>50.7</td>\n",
       "      <td>1015.60</td>\n",
       "      <td>33.90</td>\n",
       "      <td>181.0</td>\n",
       "      <td>0.60</td>\n",
       "      <td>1.0</td>\n",
       "      <td>2018</td>\n",
       "      <td>10</td>\n",
       "      <td>...</td>\n",
       "      <td>False</td>\n",
       "      <td>Toro Rosso</td>\n",
       "      <td>0 days 00:08:19.100000</td>\n",
       "      <td>NaN</td>\n",
       "      <td>21</td>\n",
       "      <td>10.0</td>\n",
       "      <td>False</td>\n",
       "      <td>NaN</td>\n",
       "      <td>False</td>\n",
       "      <td>True</td>\n",
       "    </tr>\n",
       "    <tr>\n",
       "      <th>2</th>\n",
       "      <td>3.0</td>\n",
       "      <td>26.00</td>\n",
       "      <td>50.7</td>\n",
       "      <td>1015.60</td>\n",
       "      <td>33.90</td>\n",
       "      <td>181.0</td>\n",
       "      <td>0.60</td>\n",
       "      <td>1.0</td>\n",
       "      <td>2018</td>\n",
       "      <td>10</td>\n",
       "      <td>...</td>\n",
       "      <td>False</td>\n",
       "      <td>Toro Rosso</td>\n",
       "      <td>0 days 00:09:39.719000</td>\n",
       "      <td>NaN</td>\n",
       "      <td>1</td>\n",
       "      <td>10.0</td>\n",
       "      <td>False</td>\n",
       "      <td>NaN</td>\n",
       "      <td>False</td>\n",
       "      <td>True</td>\n",
       "    </tr>\n",
       "    <tr>\n",
       "      <th>3</th>\n",
       "      <td>4.0</td>\n",
       "      <td>26.10</td>\n",
       "      <td>50.0</td>\n",
       "      <td>1015.60</td>\n",
       "      <td>33.90</td>\n",
       "      <td>283.0</td>\n",
       "      <td>1.00</td>\n",
       "      <td>1.0</td>\n",
       "      <td>2018</td>\n",
       "      <td>10</td>\n",
       "      <td>...</td>\n",
       "      <td>False</td>\n",
       "      <td>Toro Rosso</td>\n",
       "      <td>0 days 00:10:59.531000</td>\n",
       "      <td>NaN</td>\n",
       "      <td>1</td>\n",
       "      <td>10.0</td>\n",
       "      <td>False</td>\n",
       "      <td>NaN</td>\n",
       "      <td>False</td>\n",
       "      <td>True</td>\n",
       "    </tr>\n",
       "    <tr>\n",
       "      <th>4</th>\n",
       "      <td>5.0</td>\n",
       "      <td>26.60</td>\n",
       "      <td>48.6</td>\n",
       "      <td>1015.60</td>\n",
       "      <td>33.60</td>\n",
       "      <td>232.0</td>\n",
       "      <td>1.65</td>\n",
       "      <td>2.0</td>\n",
       "      <td>2018</td>\n",
       "      <td>10</td>\n",
       "      <td>...</td>\n",
       "      <td>False</td>\n",
       "      <td>Toro Rosso</td>\n",
       "      <td>0 days 00:12:19.093000</td>\n",
       "      <td>NaN</td>\n",
       "      <td>1</td>\n",
       "      <td>10.0</td>\n",
       "      <td>False</td>\n",
       "      <td>NaN</td>\n",
       "      <td>False</td>\n",
       "      <td>True</td>\n",
       "    </tr>\n",
       "    <tr>\n",
       "      <th>...</th>\n",
       "      <td>...</td>\n",
       "      <td>...</td>\n",
       "      <td>...</td>\n",
       "      <td>...</td>\n",
       "      <td>...</td>\n",
       "      <td>...</td>\n",
       "      <td>...</td>\n",
       "      <td>...</td>\n",
       "      <td>...</td>\n",
       "      <td>...</td>\n",
       "      <td>...</td>\n",
       "      <td>...</td>\n",
       "      <td>...</td>\n",
       "      <td>...</td>\n",
       "      <td>...</td>\n",
       "      <td>...</td>\n",
       "      <td>...</td>\n",
       "      <td>...</td>\n",
       "      <td>...</td>\n",
       "      <td>...</td>\n",
       "      <td>...</td>\n",
       "    </tr>\n",
       "    <tr>\n",
       "      <th>8306</th>\n",
       "      <td>72.0</td>\n",
       "      <td>21.60</td>\n",
       "      <td>61.5</td>\n",
       "      <td>1018.40</td>\n",
       "      <td>40.50</td>\n",
       "      <td>211.5</td>\n",
       "      <td>0.70</td>\n",
       "      <td>0.0</td>\n",
       "      <td>2024</td>\n",
       "      <td>24</td>\n",
       "      <td>...</td>\n",
       "      <td>True</td>\n",
       "      <td>Kick Sauber</td>\n",
       "      <td>0 days 03:12:48.585000</td>\n",
       "      <td>NaN</td>\n",
       "      <td>1</td>\n",
       "      <td>16.0</td>\n",
       "      <td>False</td>\n",
       "      <td>NaN</td>\n",
       "      <td>False</td>\n",
       "      <td>True</td>\n",
       "    </tr>\n",
       "    <tr>\n",
       "      <th>8307</th>\n",
       "      <td>73.0</td>\n",
       "      <td>21.70</td>\n",
       "      <td>61.0</td>\n",
       "      <td>1018.40</td>\n",
       "      <td>40.80</td>\n",
       "      <td>293.0</td>\n",
       "      <td>1.10</td>\n",
       "      <td>0.0</td>\n",
       "      <td>2024</td>\n",
       "      <td>24</td>\n",
       "      <td>...</td>\n",
       "      <td>True</td>\n",
       "      <td>Kick Sauber</td>\n",
       "      <td>0 days 03:14:09.170000</td>\n",
       "      <td>NaN</td>\n",
       "      <td>1</td>\n",
       "      <td>16.0</td>\n",
       "      <td>False</td>\n",
       "      <td>NaN</td>\n",
       "      <td>False</td>\n",
       "      <td>True</td>\n",
       "    </tr>\n",
       "    <tr>\n",
       "      <th>8308</th>\n",
       "      <td>74.0</td>\n",
       "      <td>21.70</td>\n",
       "      <td>61.0</td>\n",
       "      <td>1018.40</td>\n",
       "      <td>40.80</td>\n",
       "      <td>214.0</td>\n",
       "      <td>0.70</td>\n",
       "      <td>0.0</td>\n",
       "      <td>2024</td>\n",
       "      <td>24</td>\n",
       "      <td>...</td>\n",
       "      <td>True</td>\n",
       "      <td>Kick Sauber</td>\n",
       "      <td>0 days 03:15:24.403000</td>\n",
       "      <td>NaN</td>\n",
       "      <td>1</td>\n",
       "      <td>16.0</td>\n",
       "      <td>False</td>\n",
       "      <td>NaN</td>\n",
       "      <td>False</td>\n",
       "      <td>True</td>\n",
       "    </tr>\n",
       "    <tr>\n",
       "      <th>8309</th>\n",
       "      <td>75.0</td>\n",
       "      <td>21.70</td>\n",
       "      <td>61.0</td>\n",
       "      <td>1018.40</td>\n",
       "      <td>40.60</td>\n",
       "      <td>353.0</td>\n",
       "      <td>0.60</td>\n",
       "      <td>0.0</td>\n",
       "      <td>2024</td>\n",
       "      <td>24</td>\n",
       "      <td>...</td>\n",
       "      <td>True</td>\n",
       "      <td>Kick Sauber</td>\n",
       "      <td>0 days 03:16:44.876000</td>\n",
       "      <td>NaN</td>\n",
       "      <td>1</td>\n",
       "      <td>16.0</td>\n",
       "      <td>False</td>\n",
       "      <td>NaN</td>\n",
       "      <td>False</td>\n",
       "      <td>True</td>\n",
       "    </tr>\n",
       "    <tr>\n",
       "      <th>8310</th>\n",
       "      <td>76.0</td>\n",
       "      <td>21.75</td>\n",
       "      <td>61.0</td>\n",
       "      <td>1018.40</td>\n",
       "      <td>40.75</td>\n",
       "      <td>221.5</td>\n",
       "      <td>1.05</td>\n",
       "      <td>0.0</td>\n",
       "      <td>2024</td>\n",
       "      <td>24</td>\n",
       "      <td>...</td>\n",
       "      <td>True</td>\n",
       "      <td>Kick Sauber</td>\n",
       "      <td>0 days 03:17:59.594000</td>\n",
       "      <td>NaN</td>\n",
       "      <td>1</td>\n",
       "      <td>16.0</td>\n",
       "      <td>False</td>\n",
       "      <td>NaN</td>\n",
       "      <td>False</td>\n",
       "      <td>True</td>\n",
       "    </tr>\n",
       "  </tbody>\n",
       "</table>\n",
       "<p>8311 rows × 44 columns</p>\n",
       "</div>"
      ]
     },
     "execution_count": 6,
     "metadata": {},
     "output_type": "execute_result"
    }
   ],
   "execution_count": 6
  },
  {
   "metadata": {
    "ExecuteTime": {
     "end_time": "2025-05-09T22:42:01.084743Z",
     "start_time": "2025-05-09T22:42:01.031023Z"
    }
   },
   "cell_type": "code",
   "source": "cleanup_intermediate_csvs(directory=\"data\")",
   "id": "4565370fa479f29a",
   "outputs": [
    {
     "name": "stdout",
     "output_type": "stream",
     "text": [
      "✅ Cleanup complete. Kept only: merged_lap_car_weather_all_years.csv\n",
      "🗑️ Deleted 148 files:\n",
      "  - car_data_2021_driver_55.csv\n",
      "  - weather_2021.csv\n",
      "  - car_data_2022_driver_44.csv\n",
      "  - car_data_2018_driver_55.csv\n",
      "  - car_data_2024_driver_4.csv\n",
      "  - car_data_2019_driver_99.csv\n",
      "  - car_data_2023_driver_4.csv\n",
      "  - car_data_2023_driver_77.csv\n",
      "  - car_data_2023_driver_63.csv\n",
      "  - car_data_2022_driver_3.csv\n",
      "  - monaco_laps_2024.csv\n",
      "  - car_data_2022_driver_1.csv\n",
      "  - monaco_laps_2018.csv\n",
      "  - weather_2022.csv\n",
      "  - car_data_2021_driver_9.csv\n",
      "  - car_data_2022_driver_47.csv\n",
      "  - aggregated_car_data_2018.csv\n",
      "  - aggregated_car_data_2024.csv\n",
      "  - aggregated_car_data_2019.csv\n",
      "  - monaco_laps_2019.csv\n",
      "  - weather_2023.csv\n",
      "  - monaco_laps_2021.csv\n",
      "  - car_data_2021_driver_47.csv\n",
      "  - car_data_2022_driver_4.csv\n",
      "  - aggregated_car_data_2021.csv\n",
      "  - car_data_2024_driver_3.csv\n",
      "  - car_data_2024_driver_2.csv\n",
      "  - car_data_2023_driver_2.csv\n",
      "  - car_data_2022_driver_5.csv\n",
      "  - weather_2024.csv\n",
      "  - car_data_2021_driver_44.csv\n",
      "  - monaco_laps_2022.csv\n",
      "  - weather_2018.csv\n",
      "  - car_data_2022_driver_55.csv\n",
      "  - car_data_2024_driver_77.csv\n",
      "  - aggregated_car_data_2022.csv\n",
      "  - car_data_2024_driver_63.csv\n",
      "  - car_data_2018_driver_44.csv\n",
      "  - car_data_2024_driver_1.csv\n",
      "  - car_data_2023_driver_1.csv\n",
      "  - car_data_2019_driver_88.csv\n",
      "  - car_data_2019_driver_77.csv\n",
      "  - car_data_2019_driver_63.csv\n",
      "  - aggregated_car_data_2023.csv\n",
      "  - monaco_laps_2023.csv\n",
      "  - weather_2019.csv\n",
      "  - lap_metadata_all_years.csv\n",
      "  - car_data_2022_driver_6.csv\n",
      "  - car_data_2021_driver_22.csv\n",
      "  - car_data_2019_driver_4.csv\n",
      "  - car_data_2019_driver_10.csv\n",
      "  - aggregated_car_data_all_years.csv\n",
      "  - car_data_2024_driver_11.csv\n",
      "  - car_data_2018_driver_3.csv\n",
      "  - car_data_2018_driver_2.csv\n",
      "  - car_data_2024_driver_10.csv\n",
      "  - car_data_2019_driver_11.csv\n",
      "  - car_data_2023_driver_14.csv\n",
      "  - car_data_2019_driver_5.csv\n",
      "  - car_data_2022_driver_24.csv\n",
      "  - car_data_2019_driver_7.csv\n",
      "  - car_data_2022_driver_18.csv\n",
      "  - car_data_2023_driver_16.csv\n",
      "  - car_lap_merged.csv\n",
      "  - car_data_2018_driver_35.csv\n",
      "  - car_data_2018_driver_20.csv\n",
      "  - car_data_2022_driver_31.csv\n",
      "  - car_data_2021_driver_18.csv\n",
      "  - car_data_2019_driver_16.csv\n",
      "  - car_data_2018_driver_18.csv\n",
      "  - car_data_2018_driver_5.csv\n",
      "  - car_data_2018_driver_31.csv\n",
      "  - car_data_2024_driver_16.csv\n",
      "  - car_data_2022_driver_20.csv\n",
      "  - car_data_2019_driver_3.csv\n",
      "  - car_data_2021_driver_31.csv\n",
      "  - car_data_2021_driver_33.csv\n",
      "  - car_data_2022_driver_22.csv\n",
      "  - car_data_2023_driver_10.csv\n",
      "  - car_data_2024_driver_14.csv\n",
      "  - car_data_2018_driver_27.csv\n",
      "  - car_data_2018_driver_33.csv\n",
      "  - car_data_2018_driver_7.csv\n",
      "  - car_data_2023_driver_11.csv\n",
      "  - car_data_2022_driver_23.csv\n",
      "  - car_data_with_lap_2019.csv\n",
      "  - car_data_2023_driver_20.csv\n",
      "  - car_data_2024_driver_18.csv\n",
      "  - car_data_2024_driver_24.csv\n",
      "  - car_data_2018_driver_16.csv\n",
      "  - car_data_2019_driver_18.csv\n",
      "  - car_data_2024_driver_31.csv\n",
      "  - car_data_2023_driver_21.csv\n",
      "  - car_data_with_lap_2024.csv\n",
      "  - car_data_2021_driver_16.csv\n",
      "  - car_data_with_lap_2018.csv\n",
      "  - car_data_2021_driver_14.csv\n",
      "  - car_data_2022_driver_11.csv\n",
      "  - car_data_2023_driver_23.csv\n",
      "  - car_data_2019_driver_26.csv\n",
      "  - car_data_2024_driver_27.csv\n",
      "  - car_data_2018_driver_28.csv\n",
      "  - car_data_2018_driver_14.csv\n",
      "  - car_data_2018_driver_9.csv\n",
      "  - car_data_2018_driver_8.csv\n",
      "  - car_data_2019_driver_27.csv\n",
      "  - car_data_2019_driver_33.csv\n",
      "  - car_data_2023_driver_22.csv\n",
      "  - car_data_2022_driver_10.csv\n",
      "  - car_data_with_lap_2023.csv\n",
      "  - car_data_2021_driver_11.csv\n",
      "  - car_data_2022_driver_14.csv\n",
      "  - car_data_2024_driver_22.csv\n",
      "  - car_data_2019_driver_23.csv\n",
      "  - car_data_2018_driver_11.csv\n",
      "  - car_data_2018_driver_10.csv\n",
      "  - car_data_2024_driver_23.csv\n",
      "  - car_data_2023_driver_27.csv\n",
      "  - car_data_2021_driver_10.csv\n",
      "  - car_data_with_lap_2022.csv\n",
      "  - car_data_2019_driver_8.csv\n",
      "  - car_data_2023_driver_31.csv\n",
      "  - car_data_2019_driver_20.csv\n",
      "  - aggregated_weather_all_years.csv\n",
      "  - car_data_2024_driver_20.csv\n",
      "  - car_data_2023_driver_18.csv\n",
      "  - car_data_2023_driver_24.csv\n",
      "  - car_data_2022_driver_16.csv\n",
      "  - car_data_with_lap_2021.csv\n",
      "  - car_data_2021_driver_3.csv\n",
      "  - car_data_2023_driver_81.csv\n",
      "  - car_data_2021_driver_77.csv\n",
      "  - car_data_2021_driver_63.csv\n",
      "  - car_data_2024_driver_44.csv\n",
      "  - car_data_2018_driver_77.csv\n",
      "  - car_data_2019_driver_44.csv\n",
      "  - car_data_2023_driver_55.csv\n",
      "  - car_data_2021_driver_99.csv\n",
      "  - car_data_2021_driver_5.csv\n",
      "  - car_data_2022_driver_77.csv\n",
      "  - car_data_2022_driver_63.csv\n",
      "  - car_data_2024_driver_55.csv\n",
      "  - car_data_2019_driver_55.csv\n",
      "  - car_data_2023_driver_44.csv\n",
      "  - car_data_2021_driver_4.csv\n",
      "  - car_data_2021_driver_6.csv\n",
      "  - car_data_2024_driver_81.csv\n",
      "  - car_data_2021_driver_7.csv\n"
     ]
    }
   ],
   "execution_count": 7
  },
  {
   "metadata": {
    "ExecuteTime": {
     "end_time": "2025-05-09T22:42:01.120819Z",
     "start_time": "2025-05-09T22:42:01.119278Z"
    }
   },
   "cell_type": "code",
   "source": "",
   "id": "1a32ea780d1cce97",
   "outputs": [],
   "execution_count": null
  }
 ],
 "metadata": {
  "kernelspec": {
   "display_name": "Python 3",
   "language": "python",
   "name": "python3"
  },
  "language_info": {
   "codemirror_mode": {
    "name": "ipython",
    "version": 2
   },
   "file_extension": ".py",
   "mimetype": "text/x-python",
   "name": "python",
   "nbconvert_exporter": "python",
   "pygments_lexer": "ipython2",
   "version": "2.7.6"
  }
 },
 "nbformat": 4,
 "nbformat_minor": 5
}
